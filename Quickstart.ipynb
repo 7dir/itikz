{
 "cells": [
  {
   "cell_type": "markdown",
   "metadata": {},
   "source": [
    "# Quick Start"
   ]
  },
  {
   "cell_type": "markdown",
   "metadata": {},
   "source": [
    "## Installation"
   ]
  },
  {
   "cell_type": "markdown",
   "metadata": {},
   "source": [
    "### Install TeX and pdf2svg"
   ]
  },
  {
   "cell_type": "markdown",
   "metadata": {},
   "source": [
    "This is platform-dependent. \n",
    "\n",
    "See:\n",
    "    \n",
    "- [Texlive](https://www.tug.org/texlive/)\n",
    "- [pdf2svg](http://www.cityinthesky.co.uk/opensource/pdf2svg/)"
   ]
  },
  {
   "cell_type": "markdown",
   "metadata": {},
   "source": [
    "### Install itikz\n",
    "\n",
    "```sh\n",
    "pip install itikz\n",
    "```"
   ]
  },
  {
   "cell_type": "markdown",
   "metadata": {},
   "source": [
    "## Usage"
   ]
  },
  {
   "cell_type": "markdown",
   "metadata": {},
   "source": [
    "Load itikz. It's a jupter extension."
   ]
  },
  {
   "cell_type": "code",
   "execution_count": 1,
   "metadata": {},
   "outputs": [
    {
     "ename": "SyntaxError",
     "evalue": "invalid syntax (__init__.py, line 162)",
     "output_type": "error",
     "traceback": [
      "Traceback \u001b[0;36m(most recent call last)\u001b[0m:\n",
      "  File \u001b[1;32m\"/home/boltzman/.virtual_envs/odin/lib/python3.6/site-packages/IPython/core/interactiveshell.py\"\u001b[0m, line \u001b[1;32m2961\u001b[0m, in \u001b[1;35mrun_code\u001b[0m\n    exec(code_obj, self.user_global_ns, self.user_ns)\n",
      "  File \u001b[1;32m\"<ipython-input-1-27c83e89c3bd>\"\u001b[0m, line \u001b[1;32m1\u001b[0m, in \u001b[1;35m<module>\u001b[0m\n    get_ipython().run_line_magic('load_ext', 'itikz')\n",
      "  File \u001b[1;32m\"/home/boltzman/.virtual_envs/odin/lib/python3.6/site-packages/IPython/core/interactiveshell.py\"\u001b[0m, line \u001b[1;32m2131\u001b[0m, in \u001b[1;35mrun_line_magic\u001b[0m\n    result = fn(*args,**kwargs)\n",
      "  File \u001b[1;32m\"<decorator-gen-65>\"\u001b[0m, line \u001b[1;32m2\u001b[0m, in \u001b[1;35mload_ext\u001b[0m\n",
      "  File \u001b[1;32m\"/home/boltzman/.virtual_envs/odin/lib/python3.6/site-packages/IPython/core/magic.py\"\u001b[0m, line \u001b[1;32m187\u001b[0m, in \u001b[1;35m<lambda>\u001b[0m\n    call = lambda f, *a, **k: f(*a, **k)\n",
      "  File \u001b[1;32m\"/home/boltzman/.virtual_envs/odin/lib/python3.6/site-packages/IPython/core/magics/extension.py\"\u001b[0m, line \u001b[1;32m33\u001b[0m, in \u001b[1;35mload_ext\u001b[0m\n    res = self.shell.extension_manager.load_extension(module_str)\n",
      "  File \u001b[1;32m\"/home/boltzman/.virtual_envs/odin/lib/python3.6/site-packages/IPython/core/extensions.py\"\u001b[0m, line \u001b[1;32m85\u001b[0m, in \u001b[1;35mload_extension\u001b[0m\n    mod = import_module(module_str)\n",
      "  File \u001b[1;32m\"/home/boltzman/.virtual_envs/odin/lib/python3.6/importlib/__init__.py\"\u001b[0m, line \u001b[1;32m126\u001b[0m, in \u001b[1;35mimport_module\u001b[0m\n    return _bootstrap._gcd_import(name[level:], package, level)\n",
      "  File \u001b[1;32m\"<frozen importlib._bootstrap>\"\u001b[0m, line \u001b[1;32m994\u001b[0m, in \u001b[1;35m_gcd_import\u001b[0m\n",
      "  File \u001b[1;32m\"<frozen importlib._bootstrap>\"\u001b[0m, line \u001b[1;32m971\u001b[0m, in \u001b[1;35m_find_and_load\u001b[0m\n",
      "  File \u001b[1;32m\"<frozen importlib._bootstrap>\"\u001b[0m, line \u001b[1;32m955\u001b[0m, in \u001b[1;35m_find_and_load_unlocked\u001b[0m\n",
      "  File \u001b[1;32m\"<frozen importlib._bootstrap>\"\u001b[0m, line \u001b[1;32m665\u001b[0m, in \u001b[1;35m_load_unlocked\u001b[0m\n",
      "  File \u001b[1;32m\"<frozen importlib._bootstrap_external>\"\u001b[0m, line \u001b[1;32m674\u001b[0m, in \u001b[1;35mexec_module\u001b[0m\n",
      "  File \u001b[1;32m\"<frozen importlib._bootstrap_external>\"\u001b[0m, line \u001b[1;32m781\u001b[0m, in \u001b[1;35mget_code\u001b[0m\n",
      "  File \u001b[1;32m\"<frozen importlib._bootstrap_external>\"\u001b[0m, line \u001b[1;32m741\u001b[0m, in \u001b[1;35msource_to_code\u001b[0m\n",
      "\u001b[0;36m  File \u001b[0;32m\"<frozen importlib._bootstrap>\"\u001b[0;36m, line \u001b[0;32m219\u001b[0;36m, in \u001b[0;35m_call_with_frames_removed\u001b[0;36m\u001b[0m\n",
      "\u001b[0;36m  File \u001b[0;32m\"/home/boltzman/Projects/itikz/itikz/__init__.py\"\u001b[0;36m, line \u001b[0;32m162\u001b[0m\n\u001b[0;31m    if not JINJA2_ENABLED\u001b[0m\n\u001b[0m                         ^\u001b[0m\n\u001b[0;31mSyntaxError\u001b[0m\u001b[0;31m:\u001b[0m invalid syntax\n"
     ]
    }
   ],
   "source": [
    "%load_ext itikz"
   ]
  },
  {
   "cell_type": "markdown",
   "metadata": {},
   "source": [
    "Create a simple standalone document."
   ]
  },
  {
   "cell_type": "code",
   "execution_count": null,
   "metadata": {},
   "outputs": [],
   "source": [
    "%%itikz\n",
    "\\documentclass[tikz]{standalone}\n",
    "\\begin{document}\n",
    "\\begin{tikzpicture}\n",
    "\\draw[help lines] grid (5, 5);\n",
    "\\draw[fill=black] (1, 1) rectangle (2, 2);\n",
    "\\draw[fill=black] (2, 1) rectangle (3, 2);\n",
    "\\draw[fill=black] (3, 1) rectangle (4, 2);\n",
    "\\draw[fill=black] (3, 2) rectangle (4, 3);\n",
    "\\draw[fill=black] (2, 3) rectangle (3, 4);\n",
    "\\end{tikzpicture}\n",
    "\\end{document}"
   ]
  },
  {
   "cell_type": "markdown",
   "metadata": {},
   "source": [
    "The extension:\n",
    "    \n",
    "- Writes the cell as a `.tex` file; \n",
    "- Runs `pdflatex` on the source;\n",
    "- Runs `svg2pdf` on the generated pdf;\n",
    "- Removes the intermediary artifacts.\n",
    "\n",
    "By default, the filenames are the `md5` hash of the source. The extension uses the hash to see if regeneration is necessessary. If it's not, it just loads the SVG file."
   ]
  },
  {
   "cell_type": "code",
   "execution_count": null,
   "metadata": {},
   "outputs": [],
   "source": [
    "!ls *.svg *.tex"
   ]
  },
  {
   "cell_type": "markdown",
   "metadata": {},
   "source": [
    "This is annoying sometimes if you want to look for a specific file outside of the notebook. So, you can prefix it, attaching semantical meaning."
   ]
  },
  {
   "cell_type": "code",
   "execution_count": null,
   "metadata": {},
   "outputs": [],
   "source": [
    "%%itikz --file-prefix conway-\n",
    "\n",
    "\\documentclass[tikz]{standalone}\n",
    "\\begin{document}\n",
    "\\begin{tikzpicture}\n",
    "\\draw[help lines] grid (5, 5);\n",
    "\\draw[fill=black] (1, 1) rectangle (2, 2);\n",
    "\\draw[fill=black] (2, 1) rectangle (3, 2);\n",
    "\\draw[fill=black] (3, 1) rectangle (4, 2);\n",
    "\\draw[fill=black] (3, 2) rectangle (4, 3);\n",
    "\\draw[fill=black] (2, 3) rectangle (3, 4);\n",
    "\\end{tikzpicture}\n",
    "\\end{document}"
   ]
  },
  {
   "cell_type": "code",
   "execution_count": null,
   "metadata": {},
   "outputs": [],
   "source": [
    "!ls *.svg *.tex"
   ]
  },
  {
   "cell_type": "markdown",
   "metadata": {},
   "source": [
    "Of course, writing TikZ files entails lots of tiny tweaks, resulting in a lot of accumulated cruft. For development, you probably want to use your system temp directory to keep your project directory clean."
   ]
  },
  {
   "cell_type": "code",
   "execution_count": null,
   "metadata": {},
   "outputs": [],
   "source": [
    "!rm -f *.svg *.tex"
   ]
  },
  {
   "cell_type": "code",
   "execution_count": null,
   "metadata": {},
   "outputs": [],
   "source": [
    "%%itikz --temp-dir --file-prefix conway-\n",
    "\n",
    "\\documentclass[tikz]{standalone}\n",
    "\\begin{document}\n",
    "\\begin{tikzpicture}\n",
    "\\draw[help lines] grid (5, 5);\n",
    "\\draw[fill=black] (1, 1) rectangle (2, 2);\n",
    "\\draw[fill=black] (2, 1) rectangle (3, 2);\n",
    "\\draw[fill=black] (3, 1) rectangle (4, 2);\n",
    "\\draw[fill=black] (3, 2) rectangle (4, 3);\n",
    "\\draw[fill=black] (2, 3) rectangle (3, 4);\n",
    "\\end{tikzpicture}\n",
    "\\end{document}"
   ]
  },
  {
   "cell_type": "code",
   "execution_count": null,
   "metadata": {},
   "outputs": [],
   "source": [
    "!ls *.svg *.tex"
   ]
  },
  {
   "cell_type": "markdown",
   "metadata": {},
   "source": [
    "To make it easier to switch from development to production mode, setting the `ITIKZ_TEMP_DIR` environmental to any value enables `--temp-dir`."
   ]
  },
  {
   "cell_type": "code",
   "execution_count": null,
   "metadata": {},
   "outputs": [],
   "source": [
    "import os\n",
    "os.environ['ITIKZ_TEMP_DIR'] = '1'"
   ]
  },
  {
   "cell_type": "code",
   "execution_count": null,
   "metadata": {},
   "outputs": [],
   "source": [
    "%%itikz --file-prefix conway-\n",
    "\\documentclass[tikz]{standalone}\n",
    "\\begin{document}\n",
    "\\begin{tikzpicture}\n",
    "\\draw[help lines] grid (5, 5);\n",
    "\\draw[fill=blue!10] (1, 1) rectangle (2, 2);\n",
    "\\draw[fill=blue!10] (2, 1) rectangle (3, 2);\n",
    "\\draw[fill=blue!10] (3, 1) rectangle (4, 2);\n",
    "\\draw[fill=blue!10] (3, 2) rectangle (4, 3);\n",
    "\\draw[fill=blue!10] (2, 3) rectangle (3, 4);\n",
    "\\end{tikzpicture}\n",
    "\\end{document}"
   ]
  },
  {
   "cell_type": "code",
   "execution_count": null,
   "metadata": {},
   "outputs": [],
   "source": [
    "!ls *.svg *.tex"
   ]
  },
  {
   "cell_type": "code",
   "execution_count": null,
   "metadata": {},
   "outputs": [],
   "source": [
    "del os.environ['ITIKZ_TEMP_DIR']"
   ]
  },
  {
   "cell_type": "markdown",
   "metadata": {},
   "source": [
    "Sometimes, you want to generate a TikZ document from a string, rather than a cell. You can do that using the line magic."
   ]
  },
  {
   "cell_type": "code",
   "execution_count": null,
   "metadata": {},
   "outputs": [],
   "source": [
    "conway_str = r\"\"\"\\documentclass[tikz]{standalone}\n",
    "\\begin{document}\n",
    "\\begin{tikzpicture}\n",
    "\\draw[help lines] grid (5, 5);\n",
    "\\draw[fill=magenta] (1, 1) rectangle (2, 2);\n",
    "\\draw[fill=magenta] (2, 1) rectangle (3, 2);\n",
    "\\draw[fill=magenta] (3, 1) rectangle (4, 2);\n",
    "\\draw[fill=magenta] (3, 2) rectangle (4, 3);\n",
    "\\draw[fill=magenta] (2, 3) rectangle (3, 4);\n",
    "\\end{tikzpicture}\n",
    "\\end{document}\"\"\""
   ]
  },
  {
   "cell_type": "code",
   "execution_count": null,
   "metadata": {},
   "outputs": [],
   "source": [
    "%itikz --temp-dir --file-prefix conway- conway_str"
   ]
  },
  {
   "cell_type": "markdown",
   "metadata": {},
   "source": [
    "Generally, string-generation is bad. One useful thing you can do without it is use an implicit `tikzpicture` environment. "
   ]
  },
  {
   "cell_type": "code",
   "execution_count": null,
   "metadata": {},
   "outputs": [],
   "source": [
    "%%itikz --file-prefix implicit-demo- --implicit-pic \n",
    "\\draw[help lines] grid (5, 5);\n",
    "\\draw[fill=magenta!10] (1, 1) rectangle (2, 2);\n",
    "\\draw[fill=magenta!10] (2, 1) rectangle (3, 2);\n",
    "\\draw[fill=magenta!10] (3, 1) rectangle (4, 2);\n",
    "\\draw[fill=magenta!10] (3, 2) rectangle (4, 3);\n",
    "\\draw[fill=magenta!10] (2, 3) rectangle (3, 4);"
   ]
  },
  {
   "cell_type": "markdown",
   "metadata": {},
   "source": [
    "Note that the resulting `tex` artifact is a full document so you can use it later when writing a `tex` document."
   ]
  },
  {
   "cell_type": "code",
   "execution_count": null,
   "metadata": {},
   "outputs": [],
   "source": [
    "!cat implicit-demo-a6fdb3ecbc22048b7f090c20b5039b38.tex"
   ]
  },
  {
   "cell_type": "code",
   "execution_count": null,
   "metadata": {},
   "outputs": [],
   "source": [
    "!rm implicit-demo*"
   ]
  },
  {
   "cell_type": "markdown",
   "metadata": {},
   "source": [
    "In an `--implicit-pic`, it's often useful to:\n",
    "\n",
    "- Set the `\\tikzpicture[scale=X]` via `--scale=<X>` while iterating.\n",
    "- Set the `\\usepackage{X,Y,Z}` via `--tex-packages=<X,Y,Z>`\n",
    "- Set the `\\usetizlibrary{X,Y,Z}` via `--tiz-libraries=<X,Y,Z>`"
   ]
  },
  {
   "cell_type": "code",
   "execution_count": null,
   "metadata": {},
   "outputs": [],
   "source": [
    "%%itikz --temp-dir --implicit-pic --tikz-libraries=quotes,angles --tex-packages=amsfonts --scale=2\n",
    "% Example from Paul Gaborit\n",
    "% http://www.texample.net/tikz/examples/angles-quotes/\n",
    "\\draw\n",
    "    (3,-1) coordinate (a) node[right] {a}\n",
    "    -- (0,0) coordinate (b) node[left] {b}\n",
    "    -- (2,2) coordinate (c) node[above right] {c}\n",
    "    pic[\"$\\alpha$\", draw=orange, <->, angle eccentricity=1.2, angle radius=1cm]\n",
    "    {angle=a--b--c};\n",
    "    \n",
    "\\node[rotate=10] (r) at (2.5, 0.65) {Something about in $\\mathbb{R}^2$};"
   ]
  },
  {
   "cell_type": "markdown",
   "metadata": {},
   "source": [
    "Sometimes, tikz-based packages don't use `tikzpicture` environments. To save a few keystrokes, you may want to use an implicit standalone flag. *Note: You have to use `--tex-packages=tikz` in this environment if you need tikz itself!*"
   ]
  },
  {
   "cell_type": "code",
   "execution_count": null,
   "metadata": {},
   "outputs": [],
   "source": [
    "%%itikz --temp-dir --implicit-standalone --tex-packages=smartdiagram,amsfonts\n",
    "\\smartdiagramset{uniform sequence color=true,\n",
    "sequence item border color=black,\n",
    "sequence item font size=\\footnotesize,\n",
    "sequence item text color=white\n",
    "}\n",
    "\\smartdiagram[sequence diagram]{\n",
    "    $\\mathbb{N}$,\n",
    "    $\\mathbb{Z}$,\n",
    "    $\\mathbb{Q}$,\n",
    "    $\\mathbb{R}$,\n",
    "    $\\mathbb{I}$,\n",
    "    $\\mathbb{C}$\n",
    "}"
   ]
  },
  {
   "cell_type": "markdown",
   "metadata": {},
   "source": [
    "To help ensure that your tikz pictures stay aligned with your data -- and, to reduce the need for properly knowing PGF -- you can use [jinja2 templates](http://jinja.pocoo.org/docs/latest/templates/)! For example, lets say you had five noes in a DAG, ${A,B,C,D,F}$. You could figure out positioning and such in the notebook, where your brain lives."
   ]
  },
  {
   "cell_type": "code",
   "execution_count": null,
   "metadata": {},
   "outputs": [],
   "source": [
    "node_names = \"ABCDEF\"\n",
    "nodes = {s: int(365/len(node_names) * i) for i, s in enumerate(node_names)}\n",
    "n = len(nodes)\n",
    "nodes"
   ]
  },
  {
   "cell_type": "markdown",
   "metadata": {},
   "source": [
    "Then, you can interpret the cell magic source as a jinja2 template."
   ]
  },
  {
   "cell_type": "code",
   "execution_count": null,
   "metadata": {},
   "outputs": [],
   "source": [
    "%%itikz --as-jinja2\n",
    "\\documentclass[tikz]{standalone}\n",
    "\\usetikzlibrary{arrows,automata}\n",
    "\\definecolor{mymagenta}{RGB}{226,0,116}\n",
    "\\begin{document}\n",
    "\\begin{tikzpicture}[->,>=stealth',shorten >=1pt,auto,node distance=2.8cm,\n",
    "                    semithick]\n",
    "  \\tikzstyle{every state}=[fill=mymagenta,draw=none,text=white]\n",
    "  \n",
    "  {% for name, angle in nodes.items() -%}\n",
    "       \\node[color=mymagenta] (v{{loop.index0}}) at ({{angle}}:1) {${{name}}$};\n",
    "  {% endfor -%}\n",
    "  \n",
    "  {% for n1 in range(n) -%}\n",
    "      {% for n2 in range(n) -%}\n",
    "         {%if n1 < n2 -%}\n",
    "             \\path (v{{n1}}) edge (v{{n2}});\n",
    "         {% endif -%}\n",
    "      {% endfor -%}\n",
    "  {% endfor -%}\n",
    "\n",
    "\\end{tikzpicture}\n",
    "\n",
    "\\end{document}"
   ]
  },
  {
   "cell_type": "markdown",
   "metadata": {},
   "source": [
    "Sometimes, you'll make mistakes. Debugging transpiled code is hard, especially without a mapping. To help, you can print the interpolated source."
   ]
  },
  {
   "cell_type": "code",
   "execution_count": null,
   "metadata": {},
   "outputs": [],
   "source": [
    "%%itikz --as-jinja2 --print-jinja2\n",
    "\\documentclass[tikz]{standalone}\n",
    "\\usetikzlibrary{arrows,automata}\n",
    "\\definecolor{mymagenta}{RGB}{226,0,116}\n",
    "\\begin{document}\n",
    "\\begin{tikzpicture}[->,>=stealth',shorten >=1pt,auto,node distance=2.8cm,\n",
    "                    semithick]\n",
    "  \\tikzstyle{every state}=[fill=mymagenta,draw=none,text=white]\n",
    "  \n",
    "  {% for name, angle in nodes.items() -%}\n",
    "       \\node (v{{loop.index0}}) at ({{angle}}:1) {${{name}}$};\n",
    "  {% endfor -%}\n",
    "  \n",
    "  {% for n1 in range(n) -%}\n",
    "      {% for n2 in range(n) -%}\n",
    "         {%if n1 < n2 -%}\n",
    "             \\path (v{{n1}}) edge (v{{n2}});\n",
    "         {% endif -%}\n",
    "      {% endfor -%}\n",
    "  {% endfor -%}\n",
    "\n",
    "\\end{tikzpicture}\n",
    "\n",
    "\\end{document}"
   ]
  },
  {
   "cell_type": "markdown",
   "metadata": {},
   "source": [
    "Finally, its worth noting that jinja templating assumes a jinja2 file loader set in the `$CWD`. This means you can stick to the DRY principal with blocks and template extension."
   ]
  },
  {
   "cell_type": "code",
   "execution_count": null,
   "metadata": {},
   "outputs": [],
   "source": [
    "%%writefile dag_demo.tex\n",
    "\\documentclass[tikz]{standalone}\n",
    "\\usetikzlibrary{arrows,automata}\n",
    "\\definecolor{mymagenta}{RGB}{226,0,116}\n",
    "\\begin{document}\n",
    "\\begin{tikzpicture}[->,>=stealth',shorten >=1pt,auto,node distance=2.8cm,\n",
    "                    semithick]\n",
    "  \\tikzstyle{every state}=[fill=mymagenta,draw=none,text=white]\n",
    "  \n",
    "{% block content %}\n",
    "{% endblock %}\n",
    "\n",
    "\\end{tikzpicture}\n",
    "\\end{document}"
   ]
  },
  {
   "cell_type": "code",
   "execution_count": null,
   "metadata": {},
   "outputs": [],
   "source": [
    "!ls dag_demo.tex"
   ]
  },
  {
   "cell_type": "code",
   "execution_count": null,
   "metadata": {},
   "outputs": [],
   "source": [
    "%%itikz --as-jinja2 --temp-dir\n",
    "{% extends \"dag_demo.tex\" %}\n",
    "{% block content %}\n",
    "\n",
    "{% for name, angle in nodes.items() %}\n",
    "       \\node[color=mymagenta] (v{{loop.index0}}) at ({{angle}}:1) {${{name}}$};\n",
    "{% endfor -%}\n",
    "  \n",
    "{% for n1 in range(n) %}\n",
    "    {% for n2 in range(n) %}\n",
    "        {%if n1 < n2 %}\n",
    "            \\path (v{{n1}}) edge (v{{n2}});\n",
    "        {% endif %}\n",
    "    {% endfor -%}\n",
    "{% endfor %}\n",
    "\n",
    "{% endblock %}"
   ]
  },
  {
   "cell_type": "code",
   "execution_count": null,
   "metadata": {},
   "outputs": [],
   "source": [
    "!rm dag_demo.tex # ignore this, it's just housekeeping"
   ]
  }
 ],
 "metadata": {
  "kernelspec": {
   "display_name": "Python 3",
   "language": "python",
   "name": "python3"
  },
  "language_info": {
   "codemirror_mode": {
    "name": "ipython",
    "version": 3
   },
   "file_extension": ".py",
   "mimetype": "text/x-python",
   "name": "python",
   "nbconvert_exporter": "python",
   "pygments_lexer": "ipython3",
   "version": "3.6.5"
  }
 },
 "nbformat": 4,
 "nbformat_minor": 2
}
